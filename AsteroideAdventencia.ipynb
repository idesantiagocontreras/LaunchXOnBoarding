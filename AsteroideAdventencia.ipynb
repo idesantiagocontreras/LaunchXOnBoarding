{
 "cells": [
  {
   "cell_type": "markdown",
   "metadata": {},
   "source": [
    "Problema 1"
   ]
  },
  {
   "cell_type": "code",
   "execution_count": 6,
   "metadata": {},
   "outputs": [
    {
     "name": "stdout",
     "output_type": "stream",
     "text": [
      "Se acerca a un asteroide y viaja a una velodidad de 41 Km/s\n"
     ]
    }
   ],
   "source": [
    "VelocidadAsteroide = 49\n",
    "VelocidadLimiteAdvertencia = 25\n",
    "\n",
    "if VelocidadAsteroide > VelocidadLimiteAdvertencia:\n",
    "    print(\"Se acerca a un asteroide y viaja a una velodidad de \" + str(VelocidadAsteroide) + \" Km/s\")\n",
    "else:\n",
    "    print(\"No pasa nada\")"
   ]
  },
  {
   "cell_type": "markdown",
   "metadata": {},
   "source": [
    "Problema 2"
   ]
  },
  {
   "cell_type": "code",
   "execution_count": 7,
   "metadata": {},
   "outputs": [
    {
     "name": "stdout",
     "output_type": "stream",
     "text": [
      "Mirar al cielo, hay un asteroide en el cielo!!!\n"
     ]
    }
   ],
   "source": [
    "VelocidadAsteroide = 19\n",
    "VelocidadMinimaLuz = 20\n",
    "\n",
    "if VelocidadAsteroide >= VelocidadMinimaLuz:\n",
    "    print(\"Mirar al cielo, hay un asteroide en el cielo!!!\")\n",
    "else:\n",
    "    print(\"Todo bien...\")"
   ]
  },
  {
   "cell_type": "markdown",
   "metadata": {},
   "source": [
    "Problema 3"
   ]
  },
  {
   "cell_type": "code",
   "execution_count": null,
   "metadata": {},
   "outputs": [],
   "source": [
    "tamanioAsteroide = 30\n",
    "tamanioAsteroideMinimoPeligro = 25\n",
    "\n",
    "if tamanioAsteroide >= tamanioAsteroideMinimoPeligro and VelocidadAsteroide > VelocidadLimiteAdvertencia:\n",
    "    print(\"Se acerca un asteroide de forma peligrosa a la tierra.\")\n",
    "elif VelocidadAsteroide >= VelocidadMinimaLuz:\n",
    "    print(\"Mirar al cielo, hay un asteroide en el cielo!!!\")\n",
    "else:\n",
    "    print(\"Todo bien...\")"
   ]
  }
 ],
 "metadata": {
  "interpreter": {
   "hash": "76a9b5b59173f6e907ef613d57c6473488e8cf96d70c1ff660b33048b742354f"
  },
  "kernelspec": {
   "display_name": "Python 3.9.10 64-bit",
   "language": "python",
   "name": "python3"
  },
  "language_info": {
   "codemirror_mode": {
    "name": "ipython",
    "version": 3
   },
   "file_extension": ".py",
   "mimetype": "text/x-python",
   "name": "python",
   "nbconvert_exporter": "python",
   "pygments_lexer": "ipython3",
   "version": "3.9.10"
  },
  "orig_nbformat": 4
 },
 "nbformat": 4,
 "nbformat_minor": 2
}
