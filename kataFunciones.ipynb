{
 "cells": [
  {
   "cell_type": "code",
   "execution_count": 30,
   "metadata": {},
   "outputs": [],
   "source": [
    "## Ejercicio 1"
   ]
  },
  {
   "cell_type": "code",
   "execution_count": 31,
   "metadata": {},
   "outputs": [],
   "source": [
    "def generarReporte(tanque1, tanque2, tanque3):\n",
    "    promedio = (tanque1 + tanque2 + tanque3) / 3\n",
    "    return f\"\"\"Reporte de la nave\n",
    "    Promedio total: { promedio }\n",
    "    Tanque 1: { tanque1 }\n",
    "    Tanque 2: { tanque2 }\n",
    "    Tanque 3: { tanque3 }\n",
    "    \"\"\""
   ]
  },
  {
   "cell_type": "code",
   "execution_count": 32,
   "metadata": {},
   "outputs": [
    {
     "name": "stdout",
     "output_type": "stream",
     "text": [
      "Reporte de la nave\n",
      "    Promedio total: 80.0\n",
      "    Tanque 1: 70\n",
      "    Tanque 2: 80\n",
      "    Tanque 3: 90\n",
      "    \n"
     ]
    }
   ],
   "source": [
    "print(generarReporte(70,80,90))"
   ]
  },
  {
   "cell_type": "code",
   "execution_count": 33,
   "metadata": {},
   "outputs": [],
   "source": [
    "def promedio(valores):\n",
    "    total = sum(valores)\n",
    "    return total / len(valores)\n",
    "\n"
   ]
  },
  {
   "cell_type": "code",
   "execution_count": 34,
   "metadata": {},
   "outputs": [
    {
     "name": "stdout",
     "output_type": "stream",
     "text": [
      "Reporte de la nave\n",
      "    Promedio total: 73.33333333333333\n",
      "    Tanque 1: 50\n",
      "    Tanque 2: 80\n",
      "    Tanque 3: 90\n",
      "    \n"
     ]
    }
   ],
   "source": [
    "def generarReporte(tanque1, tanque2, tanque3):\n",
    "    return f\"\"\"Reporte de la nave\n",
    "    Promedio total: { promedio([tanque1, tanque2, tanque3]) }\n",
    "    Tanque 1: { tanque1 }\n",
    "    Tanque 2: { tanque2 }\n",
    "    Tanque 3: { tanque3 }\n",
    "    \"\"\"\n",
    "\n",
    "print(generarReporte(50,80,90))"
   ]
  },
  {
   "cell_type": "markdown",
   "metadata": {},
   "source": [
    "## Ejercicio 2"
   ]
  },
  {
   "cell_type": "code",
   "execution_count": 35,
   "metadata": {},
   "outputs": [
    {
     "name": "stdout",
     "output_type": "stream",
     "text": [
      "Reporte de mision a Luna:\n",
      "    Tiempo de vuelo: 65 minutos\n",
      "    combustible: 500000 litros\n",
      "    \n"
     ]
    }
   ],
   "source": [
    "def reporteMision(horaLanzamiento, tiempoVuelo, destino, tanqueExterno, tanqueInterno):\n",
    "    return f\"\"\"Reporte de mision a { destino }:\n",
    "    Tiempo de vuelo: { horaLanzamiento + tiempoVuelo } minutos\n",
    "    combustible: { tanqueExterno + tanqueInterno} litros\n",
    "    \"\"\"\n",
    "    \n",
    "print(reporteMision(14, 51, \"Luna\", 200000, 300000))"
   ]
  },
  {
   "cell_type": "code",
   "execution_count": 36,
   "metadata": {},
   "outputs": [
    {
     "name": "stdout",
     "output_type": "stream",
     "text": [
      "Reporte de mision a Luna:\n",
      "    Tiempo de vuelo: 76 minutos\n",
      "    combustible: 500000 litros\n",
      "    \n"
     ]
    }
   ],
   "source": [
    "def reporteMision(destino, *minutos, **combustible):\n",
    "    return f\"\"\"Reporte de mision a { destino }:\n",
    "    Tiempo de vuelo: { sum(minutos) } minutos\n",
    "    combustible: { sum(combustible.values()) } litros\n",
    "    \"\"\"\n",
    "    \n",
    "print(reporteMision(\"Luna\", 10, 15, 51, principal=200000, externo=300000))"
   ]
  },
  {
   "cell_type": "code",
   "execution_count": 37,
   "metadata": {},
   "outputs": [
    {
     "name": "stdout",
     "output_type": "stream",
     "text": [
      "Reporte de mision a Luna:\n",
      "    Tiempo de vuelo: 76 minutos\n",
      "    combustible: 500000 litros\n",
      "     tanque principal: 200000 litros\n",
      " tanque externo: 300000 litros\n",
      "\n"
     ]
    }
   ],
   "source": [
    "def reporteMision(destino, *minutos, **combustible):\n",
    "    reporte = f\"\"\"Reporte de mision a { destino }:\n",
    "    Tiempo de vuelo: { sum(minutos) } minutos\n",
    "    combustible: { sum(combustible.values()) } litros\n",
    "    \"\"\"\n",
    "\n",
    "    for tanque, litros in combustible.items():\n",
    "        reporte += f\"\"\" tanque { tanque }: { litros } litros\\n\"\"\"\n",
    "    return reporte\n",
    "    \n",
    "print(reporteMision(\"Luna\", 10, 15, 51, principal=200000, externo=300000))"
   ]
  }
 ],
 "metadata": {
  "interpreter": {
   "hash": "76a9b5b59173f6e907ef613d57c6473488e8cf96d70c1ff660b33048b742354f"
  },
  "kernelspec": {
   "display_name": "Python 3.9.10 64-bit",
   "language": "python",
   "name": "python3"
  },
  "language_info": {
   "codemirror_mode": {
    "name": "ipython",
    "version": 3
   },
   "file_extension": ".py",
   "mimetype": "text/x-python",
   "name": "python",
   "nbconvert_exporter": "python",
   "pygments_lexer": "ipython3",
   "version": "3.9.10"
  },
  "orig_nbformat": 4
 },
 "nbformat": 4,
 "nbformat_minor": 2
}
