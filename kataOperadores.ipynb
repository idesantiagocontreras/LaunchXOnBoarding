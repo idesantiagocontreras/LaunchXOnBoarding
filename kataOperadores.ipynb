{
 "cells": [
  {
   "cell_type": "markdown",
   "metadata": {},
   "source": [
    "<h1>Ejercicio 1</h1>"
   ]
  },
  {
   "cell_type": "code",
   "execution_count": 1,
   "metadata": {},
   "outputs": [],
   "source": [
    "distanciaTierra = 149597870\n",
    "distanciaJupiter = 778547200"
   ]
  },
  {
   "cell_type": "code",
   "execution_count": 2,
   "metadata": {},
   "outputs": [
    {
     "name": "stdout",
     "output_type": "stream",
     "text": [
      "628949330\n",
      "390810995\n"
     ]
    }
   ],
   "source": [
    "diferenciaDistanciaKilometros = distanciaJupiter - distanciaTierra\n",
    "diferenciaDistanciaMillas = int(diferenciaDistanciaKilometros // 1.609344)\n",
    "print(diferenciaDistanciaKilometros)\n",
    "print(diferenciaDistanciaMillas)"
   ]
  },
  {
   "cell_type": "markdown",
   "metadata": {},
   "source": [
    "<h1>Ejercicio 2</h1>"
   ]
  },
  {
   "cell_type": "code",
   "execution_count": 3,
   "metadata": {},
   "outputs": [],
   "source": [
    "primerPlaneta = input(\"Introduce la distancia del sol del primer planeta\")\n",
    "segundoPlaneta = input(\"Introduce la distancia del sol del segundo planeta\")"
   ]
  },
  {
   "cell_type": "code",
   "execution_count": 4,
   "metadata": {},
   "outputs": [
    {
     "ename": "ValueError",
     "evalue": "invalid literal for int() with base 10: ''",
     "output_type": "error",
     "traceback": [
      "\u001b[1;31m---------------------------------------------------------------------------\u001b[0m",
      "\u001b[1;31mValueError\u001b[0m                                Traceback (most recent call last)",
      "\u001b[1;32mc:\\Users\\shado\\Documents\\proyectos\\Launch x\\kataOperadores.ipynb Cell 6'\u001b[0m in \u001b[0;36m<module>\u001b[1;34m\u001b[0m\n\u001b[1;32m----> <a href='vscode-notebook-cell:/c%3A/Users/shado/Documents/proyectos/Launch%20x/kataOperadores.ipynb#ch0000005?line=0'>1</a>\u001b[0m primerPlaneta \u001b[39m=\u001b[39m \u001b[39mint\u001b[39;49m(primerPlaneta)\n\u001b[0;32m      <a href='vscode-notebook-cell:/c%3A/Users/shado/Documents/proyectos/Launch%20x/kataOperadores.ipynb#ch0000005?line=1'>2</a>\u001b[0m segundoPlaneta \u001b[39m=\u001b[39m \u001b[39mint\u001b[39m(segundoPlaneta)\n",
      "\u001b[1;31mValueError\u001b[0m: invalid literal for int() with base 10: ''"
     ]
    }
   ],
   "source": [
    "primerPlaneta = int(primerPlaneta)\n",
    "segundoPlaneta = int(segundoPlaneta)"
   ]
  },
  {
   "cell_type": "code",
   "execution_count": null,
   "metadata": {},
   "outputs": [],
   "source": [
    "distanciaKilometros = abs(segundoPlaneta - primerPlaneta)\n",
    "distanciaMillas = distanciaKilometros * 0.621\n",
    "\n",
    "print(distanciaKilometros)\n",
    "print(distanciaMillas)"
   ]
  }
 ],
 "metadata": {
  "interpreter": {
   "hash": "bf25b572578ab4c7115b4b290390d09608d47ddc63806dbeec33046dd0dd869f"
  },
  "kernelspec": {
   "display_name": "Python 3.9.10 ('env': venv)",
   "language": "python",
   "name": "python3"
  },
  "language_info": {
   "codemirror_mode": {
    "name": "ipython",
    "version": 3
   },
   "file_extension": ".py",
   "mimetype": "text/x-python",
   "name": "python",
   "nbconvert_exporter": "python",
   "pygments_lexer": "ipython3",
   "version": "3.9.10"
  },
  "orig_nbformat": 4
 },
 "nbformat": 4,
 "nbformat_minor": 2
}
